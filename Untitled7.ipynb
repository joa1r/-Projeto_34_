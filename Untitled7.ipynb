{
  "nbformat": 4,
  "nbformat_minor": 0,
  "metadata": {
    "colab": {
      "provenance": [],
      "authorship_tag": "ABX9TyM613bYpSRYhaD1uDhZh/wV",
      "include_colab_link": true
    },
    "kernelspec": {
      "name": "python3",
      "display_name": "Python 3"
    },
    "language_info": {
      "name": "python"
    }
  },
  "cells": [
    {
      "cell_type": "markdown",
      "metadata": {
        "id": "view-in-github",
        "colab_type": "text"
      },
      "source": [
        "<a href=\"https://colab.research.google.com/github/joa1r/-Projeto_34_/blob/main/Untitled7.ipynb\" target=\"_parent\"><img src=\"https://colab.research.google.com/assets/colab-badge.svg\" alt=\"Open In Colab\"/></a>"
      ]
    },
    {
      "cell_type": "code",
      "execution_count": 1,
      "metadata": {
        "id": "ncvenMyQ09O4",
        "colab": {
          "base_uri": "https://localhost:8080/"
        },
        "outputId": "ebd35f92-222e-4fdc-ea51-87ce6a7b4513"
      },
      "outputs": [
        {
          "output_type": "stream",
          "name": "stdout",
          "text": [
            "Cloning into 'PRO_1-4_C143_ProductDataset'...\n",
            "remote: Enumerating objects: 4, done.\u001b[K\n",
            "remote: Counting objects: 100% (4/4), done.\u001b[K\n",
            "remote: Compressing objects: 100% (4/4), done.\u001b[K\n",
            "remote: Total 4 (delta 0), reused 0 (delta 0), pack-reused 0\u001b[K\n",
            "Receiving objects: 100% (4/4), 8.27 KiB | 1.65 MiB/s, done.\n"
          ]
        }
      ],
      "source": [
        "!git clone https://github.com/ByjusBrazil/PRO_1-4_C143_ProductDataset\n"
      ]
    },
    {
      "cell_type": "code",
      "source": [
        "import pandas as pd\n",
        "dataframe = pd.read_excel(\"/content/PRO_1-4_C143_ProductDataset/PRO_C143_ProductDataset-main/text-emotion-training-dataset.xlsx\")\n",
        "print(dataframe.head())"
      ],
      "metadata": {
        "colab": {
          "base_uri": "https://localhost:8080/"
        },
        "id": "oSvr-QTe4ha3",
        "outputId": "d190fd8a-23f0-41ac-8559-153d0d637645"
      },
      "execution_count": 14,
      "outputs": [
        {
          "output_type": "stream",
          "name": "stdout",
          "text": [
            "                                        Texto_Emoção\n",
            "0                 eu não me senti humilhado;tristeza\n",
            "1  eu posso passar de me sentindo tão sem esperan...\n",
            "2  estou pegando um minuto para postar me sinto g...\n",
            "3  estou sempre me sentindo nostálgico sobre a la...\n",
            "4               estou me sentindo mal-humorado;raiva\n"
          ]
        }
      ]
    }
  ]
}